{
 "cells": [
  {
   "cell_type": "code",
   "execution_count": 1,
   "metadata": {
    "collapsed": false
   },
   "outputs": [
    {
     "name": "stdout",
     "output_type": "stream",
     "text": [
      "0.1\n",
      "回测结束，共用时：83.51957798 seconds.\n",
      "0.2\n",
      "回测结束，共用时：86.2891080379 seconds.\n",
      "0.3\n",
      "回测结束，共用时：78.5182139874 seconds.\n",
      "0.4\n",
      "回测结束，共用时：84.4055161476 seconds.\n",
      "0.5\n",
      "回测结束，共用时：83.7665328979 seconds.\n",
      "0.6\n",
      "回测结束，共用时：72.5185160637 seconds.\n",
      "0.7\n",
      "回测结束，共用时：79.9638228416 seconds.\n",
      "0.8\n",
      "回测结束，共用时：82.911796093 seconds.\n",
      "0.9\n",
      "回测结束，共用时：88.8430409431 seconds.\n",
      "1.0\n",
      "回测结束，共用时：70.9973990917 seconds.\n",
      "优化结果：\n",
      "0.2: 1.86430199896\n",
      "0.1: 1.71052080933\n",
      "0.3: 1.58478258125\n",
      "0.5: 1.32203581209\n",
      "0.4: 1.31444508975\n",
      "0.6: 0.988917670875\n",
      "0.8: 0.933351311153\n",
      "0.7: 0.840159400804\n",
      "0.9: 0.696390878243\n",
      "1.0: 0.547890553076\n"
     ]
    }
   ],
   "source": [
    "from Rb_test import *\n",
    "from perforanalyze import *\n",
    "resultList = []\n",
    "for i in 0.1*np.arange(1,11):\n",
    "    print i\n",
    "    Accountsummny = runstrategy('../../ts_data/1min/RU.SHF.1MIN_PLUS.csv',l=i)\n",
    "    _,_,d = stratanalyz(Accountsummny)\n",
    "    resultList.append((i,d[u'夏普率']))\n",
    "resultList.sort(reverse=True, key=lambda result:result[1])\n",
    "print (u'优化结果：')\n",
    "for result in resultList:\n",
    "    print (u'%s: %s' %(result[0], result[1]))"
   ]
  },
  {
   "cell_type": "code",
   "execution_count": 1,
   "metadata": {
    "collapsed": false
   },
   "outputs": [
    {
     "ename": "TypeError",
     "evalue": "runstrategy() takes no arguments (1 given)",
     "output_type": "error",
     "traceback": [
      "\u001b[0;31m---------------------------------------------------------------------------\u001b[0m",
      "\u001b[0;31mTypeError\u001b[0m                                 Traceback (most recent call last)",
      "\u001b[0;32m<ipython-input-1-64258e981806>\u001b[0m in \u001b[0;36m<module>\u001b[0;34m()\u001b[0m\n\u001b[1;32m      8\u001b[0m \u001b[0mstart\u001b[0m \u001b[0;34m=\u001b[0m \u001b[0mtime\u001b[0m\u001b[0;34m.\u001b[0m\u001b[0mtime\u001b[0m\u001b[0;34m(\u001b[0m\u001b[0;34m)\u001b[0m\u001b[0;34m\u001b[0m\u001b[0m\n\u001b[1;32m      9\u001b[0m \u001b[0;34m\u001b[0m\u001b[0m\n\u001b[0;32m---> 10\u001b[0;31m \u001b[0mresult\u001b[0m \u001b[0;34m=\u001b[0m \u001b[0mrunOptimization\u001b[0m\u001b[0;34m(\u001b[0m\u001b[0;34m'../../ts_data/1min/RB.SHF.1MIN_PLUS.csv'\u001b[0m\u001b[0;34m,\u001b[0m\u001b[0msetting\u001b[0m\u001b[0;34m)\u001b[0m\u001b[0;34m\u001b[0m\u001b[0m\n\u001b[0m\u001b[1;32m     11\u001b[0m \u001b[0;32mprint\u001b[0m \u001b[0;34mu'耗时：%s'\u001b[0m \u001b[0;34m%\u001b[0m\u001b[0;34m(\u001b[0m\u001b[0mtime\u001b[0m\u001b[0;34m.\u001b[0m\u001b[0mtime\u001b[0m\u001b[0;34m(\u001b[0m\u001b[0;34m)\u001b[0m\u001b[0;34m-\u001b[0m\u001b[0mstart\u001b[0m\u001b[0;34m)\u001b[0m\u001b[0;34m\u001b[0m\u001b[0m\n",
      "\u001b[0;32m/Users/zhaoyong/my_project/GF_Work/CTA_Strategy/Rbreaker_Strategy/Opt.pyc\u001b[0m in \u001b[0;36mrunOptimization\u001b[0;34m(filename, optimizationSetting)\u001b[0m\n\u001b[1;32m     29\u001b[0m     \u001b[0minitstrategy\u001b[0m\u001b[0;34m(\u001b[0m\u001b[0mfilename\u001b[0m\u001b[0;34m)\u001b[0m\u001b[0;34m\u001b[0m\u001b[0m\n\u001b[1;32m     30\u001b[0m     \u001b[0;32mfor\u001b[0m \u001b[0msetting\u001b[0m \u001b[0;32min\u001b[0m \u001b[0msettingList\u001b[0m\u001b[0;34m:\u001b[0m\u001b[0;34m\u001b[0m\u001b[0m\n\u001b[0;32m---> 31\u001b[0;31m         \u001b[0mAccountsummny\u001b[0m \u001b[0;34m=\u001b[0m \u001b[0mrunstrategy\u001b[0m\u001b[0;34m(\u001b[0m\u001b[0msetting\u001b[0m\u001b[0;34m)\u001b[0m\u001b[0;34m\u001b[0m\u001b[0m\n\u001b[0m\u001b[1;32m     32\u001b[0m         \u001b[0m_\u001b[0m\u001b[0;34m,\u001b[0m\u001b[0m_\u001b[0m\u001b[0;34m,\u001b[0m\u001b[0md\u001b[0m \u001b[0;34m=\u001b[0m \u001b[0mstratanalyz\u001b[0m\u001b[0;34m(\u001b[0m\u001b[0mAccountsummny\u001b[0m\u001b[0;34m)\u001b[0m\u001b[0;34m\u001b[0m\u001b[0m\n\u001b[1;32m     33\u001b[0m         \u001b[0mtargetValue\u001b[0m \u001b[0;34m=\u001b[0m \u001b[0md\u001b[0m\u001b[0;34m[\u001b[0m\u001b[0mtargetName\u001b[0m\u001b[0;34m]\u001b[0m\u001b[0;34m\u001b[0m\u001b[0m\n",
      "\u001b[0;31mTypeError\u001b[0m: runstrategy() takes no arguments (1 given)"
     ]
    }
   ],
   "source": [
    "from Opt import *\n",
    "setting = OptimizationSetting()\n",
    "setting.setOptimizeTarget(u'夏普率')           \n",
    "setting.addParameter('f1', 0.1, 0.2, 0.01)    \n",
    "setting.addParameter('f2', 0.3, 0.4, 0.01)        \n",
    "setting.addParameter('f3', 0.1, 0.2, 0.01)\n",
    "import time\n",
    "start = time.time()\n",
    "\n",
    "result = runOptimization('../../ts_data/1min/RB.SHF.1MIN_PLUS.csv',setting)\n",
    "print u'耗时：%s' %(time.time()-start)"
   ]
  },
  {
   "cell_type": "code",
   "execution_count": null,
   "metadata": {
    "collapsed": true
   },
   "outputs": [],
   "source": []
  }
 ],
 "metadata": {
  "kernelspec": {
   "display_name": "Python [Root]",
   "language": "python",
   "name": "Python [Root]"
  },
  "language_info": {
   "codemirror_mode": {
    "name": "ipython",
    "version": 2
   },
   "file_extension": ".py",
   "mimetype": "text/x-python",
   "name": "python",
   "nbconvert_exporter": "python",
   "pygments_lexer": "ipython2",
   "version": "2.7.12"
  }
 },
 "nbformat": 4,
 "nbformat_minor": 0
}
