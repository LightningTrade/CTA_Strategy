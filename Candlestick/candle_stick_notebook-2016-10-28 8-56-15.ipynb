{
 "cells": [
  {
   "cell_type": "code",
   "execution_count": 2,
   "metadata": {
    "collapsed": false
   },
   "outputs": [
    {
     "ename": "ImportError",
     "evalue": "No module named 'pandas'",
     "output_type": "error",
     "traceback": [
      "\u001b[0;31m---------------------------------------------------------------------------\u001b[0m",
      "\u001b[0;31mImportError\u001b[0m                               Traceback (most recent call last)",
      "\u001b[0;32m<ipython-input-2-49e508e604b8>\u001b[0m in \u001b[0;36m<module>\u001b[0;34m()\u001b[0m\n\u001b[1;32m      1\u001b[0m \u001b[0;31m# Copyright Shawn Gu, 2016\u001b[0m\u001b[0;34m\u001b[0m\u001b[0;34m\u001b[0m\u001b[0m\n\u001b[1;32m      2\u001b[0m \u001b[0;32mfrom\u001b[0m \u001b[0mmath\u001b[0m \u001b[0;32mimport\u001b[0m \u001b[0mpi\u001b[0m\u001b[0;34m\u001b[0m\u001b[0m\n\u001b[0;32m----> 3\u001b[0;31m \u001b[0;32mimport\u001b[0m \u001b[0mpandas\u001b[0m \u001b[0;32mas\u001b[0m \u001b[0mpd\u001b[0m\u001b[0;34m\u001b[0m\u001b[0m\n\u001b[0m\u001b[1;32m      4\u001b[0m \u001b[0;34m\u001b[0m\u001b[0m\n\u001b[1;32m      5\u001b[0m \u001b[0;32mfrom\u001b[0m \u001b[0mbokeh\u001b[0m\u001b[0;34m.\u001b[0m\u001b[0mio\u001b[0m \u001b[0;32mimport\u001b[0m \u001b[0moutput_notebook\u001b[0m\u001b[0;34m\u001b[0m\u001b[0m\n",
      "\u001b[0;31mImportError\u001b[0m: No module named 'pandas'"
     ]
    }
   ],
   "source": [
    "# Copyright Shawn Gu, 2016\n",
    "from math import pi\n",
    "import pandas as pd\n",
    "\n",
    "from bokeh.io import output_notebook\n",
    "from bokeh.plotting import figure, show\n",
    "from bokeh.models import ColumnDataSource, Rect, HoverTool, Range1d, LinearAxis, WheelZoomTool, PanTool, ResetTool, ResizeTool, PreviewSaveTool\n",
    "\n",
    "output_notebook()"
   ]
  },
  {
   "cell_type": "code",
   "execution_count": null,
   "metadata": {
    "collapsed": false
   },
   "outputs": [],
   "source": [
    "\n",
    "\n",
    "\n",
    "def create_data_source(data_frame):\n",
    "    '''\n",
    "    Reference here: https://github.com/bokeh/bokeh/issues/1239\n",
    "    '''\n",
    "    return ColumnDataSource(\n",
    "        data=dict(\n",
    "            date=[x.strftime(\"%Y-%m-%d\") for x in data_frame['date']],\n",
    "            open=data_frame['open'],\n",
    "            close=data_frame['close'],\n",
    "            high=data_frame['high'],\n",
    "            low=data_frame['low'],\n",
    "        )\n",
    "    )\n",
    "\n",
    "\n",
    "def ricequant_candlestick_volume_plot(MD_df, plot_title=None):\n",
    "    '''\n",
    "    Copyright Shawn Gu, 2016\n",
    "    '''\n",
    "    input_df = pd.DataFrame(\n",
    "        {'date': MD_df.index,\n",
    "         'open': MD_df['OpeningPx'],\n",
    "         'close': MD_df['ClosingPx'],\n",
    "         'high': MD_df['HighPx'],\n",
    "         'low': MD_df['LowPx'],\n",
    "         'volume': MD_df['TotalVolumeTraded']}\n",
    "    )\n",
    "    candlestick_volume_plot(input_df, plot_title)\n",
    "    \n",
    "\n",
    "def candlestick_volume_plot(input_df, plot_title=None):\n",
    "    '''\n",
    "    Copyright Shawn Gu, 2016\n",
    "    The code below is modified based on the snippet from http://bokeh.pydata.org/en/0.11.1/docs/gallery/candlestick.html.\n",
    "    '''\n",
    "    px_mids = (input_df['open'] + input_df['close']) / 2.0\n",
    "    px_spans = abs(input_df['close'] - input_df['open'])\n",
    "    \n",
    "    vol_mids = input_df['volume'] / 2.0\n",
    "    vol_spans = input_df['volume']\n",
    "    max_vol = max(input_df['volume'])\n",
    "    \n",
    "    inc = input_df['close'] >= input_df['open']\n",
    "    dec = input_df['open'] > input_df['close']\n",
    "    \n",
    "    inc_color = 'red'\n",
    "    dec_color = 'green'\n",
    "    \n",
    "    width = 12*60*60*1000*1.2 # in ms\n",
    "    \n",
    "    ht = HoverTool(\n",
    "    tooltips=[\n",
    "            (\"date\", \"@date\"),\n",
    "            (\"open\", \"@open\"),\n",
    "            (\"close\", \"@close\"),\n",
    "            (\"high\", \"@high\"),\n",
    "            (\"low\", \"@low\"),\n",
    "        ]\n",
    "    )\n",
    "    TOOLS = [ht, WheelZoomTool(dimensions=['width']), ResizeTool(), ResetTool(),\n",
    "             PanTool(dimensions=['width']), PreviewSaveTool()]\n",
    "    \n",
    "    max_px = max(input_df['high'])\n",
    "    min_px = min(input_df['low'])\n",
    "    \n",
    "    px_range = max_px - min_px\n",
    "    \n",
    "    primary_y_range = (min_px - px_range / 2.0, max_px + px_range * 0.1)\n",
    "    \n",
    "    p = figure(x_axis_type=\"datetime\", tools=TOOLS, plot_height=600, plot_width=950,\n",
    "               toolbar_location=\"above\", y_range=primary_y_range)\n",
    "    \n",
    "    if plot_title:\n",
    "        p.title = plot_title\n",
    "    \n",
    "    p.xaxis.major_label_orientation = pi/4\n",
    "    p.grid.grid_line_alpha=0.3\n",
    "    p.background_fill = \"black\"\n",
    "    \n",
    "    \n",
    "    p.extra_y_ranges = {\"volume\": Range1d(start=0, end=max_vol * 5)}\n",
    "    p.add_layout(LinearAxis(y_range_name=\"volume\"), 'right')\n",
    "\n",
    "    px_rect_inc_src = create_data_source(input_df[inc])\n",
    "    px_rect_dec_src = create_data_source(input_df[dec])\n",
    "\n",
    "    p.segment(input_df.date[inc], input_df.high[inc], input_df.date[inc], input_df.low[inc], color=inc_color)\n",
    "    p.segment(input_df.date[dec], input_df.high[dec], input_df.date[dec], input_df.low[dec], color=dec_color)\n",
    "    p.rect(input_df.date[inc], px_mids[inc], width, px_spans[inc],\n",
    "           fill_color=inc_color, line_color=inc_color, source=px_rect_inc_src)\n",
    "    p.rect(input_df.date[dec], px_mids[dec], width, px_spans[dec],\n",
    "           fill_color=dec_color, line_color=dec_color, source=px_rect_dec_src)\n",
    "\n",
    "    p.rect(input_df.date[inc], vol_mids[inc], width, vol_spans[inc],\n",
    "             fill_color=inc_color, color=inc_color, y_range_name=\"volume\")\n",
    "    p.rect(input_df.date[dec], vol_mids[dec], width, vol_spans[dec],\n",
    "             fill_color=dec_color, color=dec_color, y_range_name=\"volume\")\n",
    "\n",
    "    show(p)"
   ]
  },
  {
   "cell_type": "code",
   "execution_count": null,
   "metadata": {
    "collapsed": false
   },
   "outputs": [],
   "source": [
    "# 使用范例\n",
    "hf_df = get_price('600207.XSHG', start_date='2013-01-02', end_date='2013-05-15')\n",
    "ricequant_candlestick_volume_plot(hf_df)"
   ]
  },
  {
   "cell_type": "code",
   "execution_count": null,
   "metadata": {
    "collapsed": true
   },
   "outputs": [],
   "source": []
  }
 ],
 "metadata": {
  "kernelspec": {
   "display_name": "Python [py3.5]",
   "language": "python",
   "name": "Python [py3.5]"
  },
  "language_info": {
   "codemirror_mode": {
    "name": "ipython",
    "version": 3
   },
   "file_extension": ".py",
   "mimetype": "text/x-python",
   "name": "python",
   "nbconvert_exporter": "python",
   "pygments_lexer": "ipython3",
   "version": "3.5.2"
  }
 },
 "nbformat": 4,
 "nbformat_minor": 0
}
